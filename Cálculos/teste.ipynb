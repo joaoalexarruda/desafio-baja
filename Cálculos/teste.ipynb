{
 "cells": [
  {
   "cell_type": "code",
   "execution_count": 6,
   "metadata": {},
   "outputs": [
    {
     "data": {
      "text/html": [
       "<div>\n",
       "<style scoped>\n",
       "    .dataframe tbody tr th:only-of-type {\n",
       "        vertical-align: middle;\n",
       "    }\n",
       "\n",
       "    .dataframe tbody tr th {\n",
       "        vertical-align: top;\n",
       "    }\n",
       "\n",
       "    .dataframe thead th {\n",
       "        text-align: right;\n",
       "    }\n",
       "</style>\n",
       "<table border=\"1\" class=\"dataframe\">\n",
       "  <thead>\n",
       "    <tr style=\"text-align: right;\">\n",
       "      <th></th>\n",
       "      <th>Se [MPa]</th>\n",
       "      <th>d [mm]</th>\n",
       "      <th>kf</th>\n",
       "      <th>kfs</th>\n",
       "      <th>Result</th>\n",
       "    </tr>\n",
       "  </thead>\n",
       "  <tbody>\n",
       "    <tr>\n",
       "      <th>0</th>\n",
       "      <td>100</td>\n",
       "      <td>10</td>\n",
       "      <td>1.0</td>\n",
       "      <td>0.9</td>\n",
       "      <td>False</td>\n",
       "    </tr>\n",
       "    <tr>\n",
       "      <th>1</th>\n",
       "      <td>200</td>\n",
       "      <td>20</td>\n",
       "      <td>1.5</td>\n",
       "      <td>0.8</td>\n",
       "      <td>False</td>\n",
       "    </tr>\n",
       "    <tr>\n",
       "      <th>2</th>\n",
       "      <td>300</td>\n",
       "      <td>30</td>\n",
       "      <td>2.0</td>\n",
       "      <td>0.7</td>\n",
       "      <td>False</td>\n",
       "    </tr>\n",
       "    <tr>\n",
       "      <th>3</th>\n",
       "      <td>400</td>\n",
       "      <td>40</td>\n",
       "      <td>2.5</td>\n",
       "      <td>0.6</td>\n",
       "      <td>False</td>\n",
       "    </tr>\n",
       "  </tbody>\n",
       "</table>\n",
       "</div>"
      ],
      "text/plain": [
       "   Se [MPa]  d [mm]   kf  kfs Result\n",
       "0       100      10  1.0  0.9  False\n",
       "1       200      20  1.5  0.8  False\n",
       "2       300      30  2.0  0.7  False\n",
       "3       400      40  2.5  0.6  False"
      ]
     },
     "execution_count": 6,
     "metadata": {},
     "output_type": "execute_result"
    }
   ],
   "source": [
    "import pandas as pd\n",
    "import sympy as sp\n",
    "\n",
    "# create a dataframe with the data\n",
    "data = {'Se [MPa]': [100, 200, 300, 400], 'd [mm]': [10, 20, 30, 40], 'kf': [1.0, 1.5, 2.0, 2.5], 'kfs': [0.9, 0.8, 0.7, 0.6]}\n",
    "df = pd.DataFrame(data)\n",
    "\n",
    "# define the symbols and equation\n",
    "Se, d, kf, kfs = sp.symbols('Se d kf kfs')\n",
    "expr = sp.Eq(Se*sp.sqrt(d)*kf*kfs, 100)\n",
    "\n",
    "# define a function to solve the equation for each row of the dataframe\n",
    "def solve_expr(row):\n",
    "    return expr.subs({Se: row['Se [MPa]'], d: row['d [mm]']/1000, kf: row['kf'], kfs: row['kfs']}).simplify()\n",
    "\n",
    "# apply the function to each row of the dataframe\n",
    "df['Result'] = df.apply(solve_expr, axis=1)\n",
    "\n",
    "df"
   ]
  },
  {
   "cell_type": "code",
   "execution_count": null,
   "metadata": {},
   "outputs": [],
   "source": []
  }
 ],
 "metadata": {
  "kernelspec": {
   "display_name": "Python 3",
   "language": "python",
   "name": "python3"
  },
  "language_info": {
   "codemirror_mode": {
    "name": "ipython",
    "version": 3
   },
   "file_extension": ".py",
   "mimetype": "text/x-python",
   "name": "python",
   "nbconvert_exporter": "python",
   "pygments_lexer": "ipython3",
   "version": "3.10.6"
  }
 },
 "nbformat": 4,
 "nbformat_minor": 2
}
